{
 "cells": [
  {
   "cell_type": "markdown",
   "id": "determined-qualification",
   "metadata": {},
   "source": [
    "# Spotipy Test"
   ]
  },
  {
   "cell_type": "code",
   "execution_count": 1,
   "id": "aging-browser",
   "metadata": {},
   "outputs": [],
   "source": [
    "import spotipy\n",
    "from spotipy.oauth2 import SpotifyOAuth\n",
    "import cred"
   ]
  },
  {
   "cell_type": "code",
   "execution_count": 2,
   "id": "bronze-essex",
   "metadata": {},
   "outputs": [],
   "source": [
    "scope = \"user-read-recently-played\""
   ]
  },
  {
   "cell_type": "code",
   "execution_count": 3,
   "id": "neural-large",
   "metadata": {},
   "outputs": [],
   "source": [
    "sp = spotipy.Spotify(\n",
    "        auth_manager=SpotifyOAuth(\n",
    "                client_id=cred.client_id, \n",
    "                client_secret= cred.client_secret, \n",
    "                redirect_uri=cred.redirect_url, \n",
    "                scope=scope))"
   ]
  },
  {
   "cell_type": "code",
   "execution_count": 4,
   "id": "professional-lying",
   "metadata": {},
   "outputs": [
    {
     "name": "stdout",
     "output_type": "stream",
     "text": [
      "0 Daft Punk  –  Voyager\n",
      "1 Daft Punk  –  Something About Us\n",
      "2 Daft Punk  –  High Life\n",
      "3 Daft Punk  –  Superheroes\n",
      "4 Daft Punk  –  Nightvision\n",
      "5 Daft Punk  –  Crescendolls\n",
      "6 Daft Punk  –  Harder, Better, Faster, Stronger\n",
      "7 Daft Punk  –  Digital Love\n",
      "8 Daft Punk  –  Aerodynamic\n",
      "9 Daft Punk  –  One More Time\n",
      "10 Phoebe Bridgers  –  I Know The End\n",
      "11 Phoebe Bridgers  –  Graceland Too\n",
      "12 Phoebe Bridgers  –  ICU\n",
      "13 Phoebe Bridgers  –  Savior Complex\n",
      "14 Phoebe Bridgers  –  Chinese Satellite\n",
      "15 Phoebe Bridgers  –  Halloween\n",
      "16 Phoebe Bridgers  –  Punisher\n",
      "17 Phoebe Bridgers  –  Kyoto\n",
      "18 Phoebe Bridgers  –  Garden Song\n",
      "19 Phoebe Bridgers  –  DVD Menu\n",
      "20 Phoebe Bridgers  –  I Know The End\n",
      "21 Kasabian  –  L.S.F.\n",
      "22 The Strokes  –  12:51\n",
      "23 Arcade Fire  –  Haiti\n",
      "24 Franz Ferdinand  –  The Dark Of The Matinée\n",
      "25 Radiohead  –  Pyramid Song\n",
      "26 Kasabian  –  Where Did All the Love Go?\n",
      "27 Interpol  –  Slow Hands\n",
      "28 Arcade Fire  –  Neighborhood #3 (Power Out)\n",
      "29 The Strokes  –  Is This It\n",
      "30 Arcade Fire  –  Rebellion (Lies)\n",
      "31 Interpol  –  Rest My Chemistry\n",
      "32 Yeah Yeah Yeahs  –  Y Control\n",
      "33 St. Vincent  –  Now, Now\n",
      "34 St. Vincent  –  The Sequel\n",
      "35 St. Vincent  –  Just the Same But Brand New\n",
      "36 St. Vincent  –  The Party\n",
      "37 St. Vincent  –  The Bed\n",
      "38 St. Vincent  –  Marrow\n",
      "39 St. Vincent  –  Laughing with a Mouth of Blood\n",
      "40 St. Vincent  –  Black Rainbow\n",
      "41 St. Vincent  –  Actor Out of Work\n",
      "42 St. Vincent  –  The Neighbors\n",
      "43 St. Vincent  –  Save Me from What I Want\n",
      "44 St. Vincent  –  The Strangers\n",
      "45 Yeah Yeah Yeahs  –  Y Control\n",
      "46 Interpol  –  The Heinrich Maneuver - Radio Edit\n",
      "47 Arcade Fire  –  Neighborhood #1 (Tunnels)\n",
      "48 The Strokes  –  Hard To Explain\n",
      "49 LCD Soundsystem  –  All My Friends\n"
     ]
    }
   ],
   "source": [
    "results = sp.current_user_recently_played()\n",
    "for idx, item in enumerate(results['items']):\n",
    "    track = item['track']\n",
    "    print(idx, track['artists'][0]['name'], \" – \", track['name'])"
   ]
  },
  {
   "cell_type": "code",
   "execution_count": 14,
   "id": "accurate-suicide",
   "metadata": {},
   "outputs": [],
   "source": [
    "first_song_id = results['items'][0]['track']['id']"
   ]
  },
  {
   "cell_type": "code",
   "execution_count": 15,
   "id": "focused-piano",
   "metadata": {},
   "outputs": [
    {
     "data": {
      "text/plain": [
       "[{'danceability': 0.669,\n",
       "  'energy': 0.743,\n",
       "  'key': 7,\n",
       "  'loudness': -11.488,\n",
       "  'mode': 1,\n",
       "  'speechiness': 0.0494,\n",
       "  'acousticness': 0.282,\n",
       "  'instrumentalness': 0.803,\n",
       "  'liveness': 0.309,\n",
       "  'valence': 0.279,\n",
       "  'tempo': 119.882,\n",
       "  'type': 'audio_features',\n",
       "  'id': '7cMFjxhbXBpOlais7KMF3j',\n",
       "  'uri': 'spotify:track:7cMFjxhbXBpOlais7KMF3j',\n",
       "  'track_href': 'https://api.spotify.com/v1/tracks/7cMFjxhbXBpOlais7KMF3j',\n",
       "  'analysis_url': 'https://api.spotify.com/v1/audio-analysis/7cMFjxhbXBpOlais7KMF3j',\n",
       "  'duration_ms': 227867,\n",
       "  'time_signature': 4}]"
      ]
     },
     "execution_count": 15,
     "metadata": {},
     "output_type": "execute_result"
    }
   ],
   "source": [
    "sp.audio_features(tracks=[first_song_id])"
   ]
  },
  {
   "cell_type": "code",
   "execution_count": 18,
   "id": "chronic-trade",
   "metadata": {},
   "outputs": [],
   "source": [
    "aa = sp.audio_analysis(first_song_id)"
   ]
  },
  {
   "cell_type": "code",
   "execution_count": 19,
   "id": "mighty-logging",
   "metadata": {},
   "outputs": [
    {
     "data": {
      "text/plain": [
       "dict_keys(['meta', 'track', 'bars', 'beats', 'sections', 'segments', 'tatums'])"
      ]
     },
     "execution_count": 19,
     "metadata": {},
     "output_type": "execute_result"
    }
   ],
   "source": [
    "aa.keys()"
   ]
  },
  {
   "cell_type": "code",
   "execution_count": 22,
   "id": "occupational-catholic",
   "metadata": {},
   "outputs": [
    {
     "data": {
      "text/plain": [
       "dict_keys(['num_samples', 'duration', 'sample_md5', 'offset_seconds', 'window_seconds', 'analysis_sample_rate', 'analysis_channels', 'end_of_fade_in', 'start_of_fade_out', 'loudness', 'tempo', 'tempo_confidence', 'time_signature', 'time_signature_confidence', 'key', 'key_confidence', 'mode', 'mode_confidence', 'codestring', 'code_version', 'echoprintstring', 'echoprint_version', 'synchstring', 'synch_version', 'rhythmstring', 'rhythm_version'])"
      ]
     },
     "execution_count": 22,
     "metadata": {},
     "output_type": "execute_result"
    }
   ],
   "source": [
    "aa['track'].keys()"
   ]
  },
  {
   "cell_type": "code",
   "execution_count": null,
   "id": "harmful-bradford",
   "metadata": {},
   "outputs": [],
   "source": []
  }
 ],
 "metadata": {
  "kernelspec": {
   "display_name": "Python 3",
   "language": "python",
   "name": "python3"
  },
  "language_info": {
   "codemirror_mode": {
    "name": "ipython",
    "version": 3
   },
   "file_extension": ".py",
   "mimetype": "text/x-python",
   "name": "python",
   "nbconvert_exporter": "python",
   "pygments_lexer": "ipython3",
   "version": "3.9.1"
  }
 },
 "nbformat": 4,
 "nbformat_minor": 5
}
